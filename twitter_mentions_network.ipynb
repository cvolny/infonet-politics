{
 "cells": [
  {
   "cell_type": "code",
   "execution_count": 1,
   "metadata": {},
   "outputs": [],
   "source": [
    "import networkx as nx\n",
    "import numpy as np\n",
    "import matplotlib.pyplot as pl\n",
    "from collections import defaultdict\n",
    "from pprint import pprint\n",
    "import itertools\n",
    "import random\n",
    "\n",
    "pl.rcParams['figure.figsize'] = [12, 12]"
   ]
  },
  {
   "cell_type": "code",
   "execution_count": 5,
   "metadata": {},
   "outputs": [
    {
     "name": "stdout",
     "output_type": "stream",
     "text": [
      "Name: \n",
      "Type: Graph\n",
      "Number of nodes: 7175\n",
      "Number of edges: 11681\n",
      "Average degree:   3.2560\n",
      "{'cen': 3271, 'con': 2101, 'lib': 1803, 'total': 7175}\n"
     ]
    }
   ],
   "source": [
    "g = nx.read_graphml('mention.graphml')\n",
    "if g.is_directed():\n",
    "    g = g.to_undirected()\n",
    "# convert from multigraph to standard graph\n",
    "g = nx.Graph(g)\n",
    "nodes = g.nodes(data=True)\n",
    "edges = g.edges()\n",
    "info = nx.info(g)\n",
    "print(info)\n",
    "nodes = {k: v for k, v in nodes}\n",
    "edges = tuple((k, v) for k, v in edges)\n",
    "fname = 'cluster'\n",
    "fcon = 'right'\n",
    "flib = 'left'\n",
    "fcen = '-'\n",
    "con = [k for k, v in nodes.items() if v[fname] == fcon]\n",
    "lib = [k for k, v in nodes.items() if v[fname] == flib]\n",
    "cen = [k for k, v in nodes.items() if v[fname] == fcen]\n",
    "pprint(dict(con=len(con), lib=len(lib), cen=len(cen), total=(len(con) + len(lib) + len(cen))))"
   ]
  },
  {
   "cell_type": "code",
   "execution_count": 6,
   "metadata": {},
   "outputs": [
    {
     "name": "stdout",
     "output_type": "stream",
     "text": [
      "{'modularity': 0.10937366167058862}\n"
     ]
    }
   ],
   "source": [
    "# calc modularity of network\n",
    "from networkx.algorithms.community.quality import modularity\n",
    "q =  modularity(g, [con, lib, cen])\n",
    "\n",
    "pprint(dict(modularity=q))"
   ]
  },
  {
   "cell_type": "code",
   "execution_count": 9,
   "metadata": {},
   "outputs": [
    {
     "name": "stdout",
     "output_type": "stream",
     "text": [
      "Edge Sample:\n",
      "[('n2677', 'n4345'),\n",
      " ('n5785', 'n6827'),\n",
      " ('n1111', 'n1960'),\n",
      " ('n714', 'n1145'),\n",
      " ('n3471', 'n5937'),\n",
      " ('n1704', 'n4648'),\n",
      " ('n2201', 'n4477'),\n",
      " ('n1199', 'n3913'),\n",
      " ('n3534', 'n4082'),\n",
      " ('n4023', 'n4900'),\n",
      " ('n234', 'n3704'),\n",
      " ('n5018', 'n5783'),\n",
      " ('n714', 'n5921'),\n",
      " ('n92', 'n3198'),\n",
      " ('n551', 'n568'),\n",
      " ('n1218', 'n6259'),\n",
      " ('n1882', 'n4193'),\n",
      " ('n802', 'n6447'),\n",
      " ('n1060', 'n3152'),\n",
      " ('n3219', 'n6667'),\n",
      " ('n2460', 'n4240'),\n",
      " ('n4570', 'n5978'),\n",
      " ('n3720', 'n6278'),\n",
      " ('n1882', 'n4814'),\n",
      " ('n1267', 'n3164')]\n",
      "Nodes from Edges Sample:\n",
      "{'-': {'n234': (...,),\n",
      "       'n2677': (...,),\n",
      "       'n3152': (...),\n",
      "       'n3219': (...,),\n",
      "       'n4193': (...,),\n",
      "       'n4814': (...),\n",
      "       'n5937': (...),\n",
      "       'n6278': (...)},\n",
      " 'left': {'n1060': (...),\n",
      "          'n3164': (...),\n",
      "          'n3534': (...,),\n",
      "          'n3704': (...),\n",
      "          'n3913': (...),\n",
      "          'n4082': (...),\n",
      "          'n4240': (...),\n",
      "          'n4345': (...),\n",
      "          'n4477': (...),\n",
      "          'n4648': (...),\n",
      "          'n4900': (...),\n",
      "          'n5018': (...),\n",
      "          'n568': (...),\n",
      "          'n5783': (...),\n",
      "          'n6827': (...)},\n",
      " 'right': {'n1111': (...),\n",
      "           'n1145': (...),\n",
      "           'n1199': (...),\n",
      "           'n1218': (...),\n",
      "           'n1267': (...,),\n",
      "           'n1704': (...),\n",
      "           'n1882': (...),\n",
      "           'n1960': (...),\n",
      "           'n2201': (...),\n",
      "           'n2460': (...),\n",
      "           'n3198': (...),\n",
      "           'n3471': (...),\n",
      "           'n3720': (...),\n",
      "           'n4023': (...),\n",
      "           'n4570': (...),\n",
      "           'n551': (...),\n",
      "           'n5785': (...),\n",
      "           'n5921': (...),\n",
      "           'n5978': (...,),\n",
      "           'n6259': (...),\n",
      "           'n6447': (...),\n",
      "           'n6667': (...),\n",
      "           'n714': (...),\n",
      "           'n802': (...),\n",
      "           'n92': (...,)}}\n"
     ]
    }
   ],
   "source": [
    "esample = random.sample(edges, 25)\n",
    "print(\"Edge Sample:\")\n",
    "pprint(esample)\n",
    "\n",
    "nsample = {'left': {}, 'right': {}, '-': {}}\n",
    "for u, v in esample:\n",
    "    uclust = g.nodes[u]['cluster']\n",
    "    vclust = g.nodes[v]['cluster']\n",
    "    if u not in nsample[uclust]:\n",
    "        nsample[uclust][u] = tuple(g.neighbors(u))\n",
    "    if v not in nsample[vclust]:\n",
    "        nsample[vclust][v] = tuple(g.neighbors(v))\n",
    "\n",
    "print(\"Nodes from Edges Sample:\")\n",
    "pprint(nsample, depth=2)"
   ]
  },
  {
   "cell_type": "code",
   "execution_count": 13,
   "metadata": {},
   "outputs": [
    {
     "name": "stdout",
     "output_type": "stream",
     "text": [
      "n3189 1\n"
     ]
    }
   ],
   "source": [
    "def ratio_calc(graph, node, sweight=1, oweight=0, nweight=0.5, \n",
    "               field='cluster', neutral='-', right='right', left='left', \n",
    "               no_alignment_value=None):\n",
    "    \"\"\"\n",
    "    Perform a ratio calculation on given node in graph.\n",
    "    \"\"\"\n",
    "    nbors = tuple(graph.neighbors(node))\n",
    "    nclust = graph.nodes[node][field]\n",
    "    \n",
    "    if nclust == neutral:\n",
    "        return no_alignment_value\n",
    "    \n",
    "    counts = { k: float(len(list(v))) for k,v in itertools.groupby(nbors, key=lambda y: graph.nodes[y][field]) }\n",
    "    nother = right if nclust == left else left\n",
    "    ratio = ((sweight * counts.get(nclust, 0)) + (oweight * counts.get(nother, 0)) + (nweight * counts.get(neutral, 0))) \\\n",
    "                / len(nbors)\n",
    "    return ratio\n",
    "\n",
    "ratios = { n: ratio_calc(g, n) for n in g.nodes() }\n",
    "ratios = { k: v for k, v in ratios.items() if v }\n",
    "#pprint(ratios)"
   ]
  },
  {
   "cell_type": "code",
   "execution_count": 11,
   "metadata": {},
   "outputs": [
    {
     "data": {
      "image/png": "[encoded data removed]",
      "text/plain": [
       "<Figure size 864x864 with 2 Axes>"
      ]
     },
     "metadata": {},
     "output_type": "display_data"
    }
   ],
   "source": [
    "d = { k: len(tuple(v)) for k, v in itertools.groupby(sorted(ratios.values())) }\n",
    "plot, (ap, bp) = pl.subplots(2)\n",
    "plot.suptitle('Mention Ratio Distribution')\n",
    "ap.scatter(d.keys(), d.values())\n",
    "bp.hist(ratios.values(), bins=9)\n",
    "plot.show()"
   ]
  },
  {
   "cell_type": "code",
   "execution_count": null,
   "metadata": {},
   "outputs": [],
   "source": []
  }
 ],
 "metadata": {
  "kernelspec": {
   "display_name": "Python 3",
   "language": "python",
   "name": "python3"
  },
  "language_info": {
   "codemirror_mode": {
    "name": "ipython",
    "version": 3
   },
   "file_extension": ".py",
   "mimetype": "text/x-python",
   "name": "python",
   "nbconvert_exporter": "python",
   "pygments_lexer": "ipython3",
   "version": "3.6.9"
  }
 },
 "nbformat": 4,
 "nbformat_minor": 2
}
