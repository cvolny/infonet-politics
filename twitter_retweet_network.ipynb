{
 "cells": [
  {
   "cell_type": "code",
   "execution_count": 26,
   "metadata": {},
   "outputs": [],
   "source": [
    "import networkx as nx\n",
    "import numpy as np\n",
    "import matplotlib.pyplot as pl\n",
    "from collections import defaultdict\n",
    "from pprint import pprint\n",
    "import itertools\n",
    "import random\n",
    "\n",
    "pl.rcParams['figure.figsize'] = [12, 12]"
   ]
  },
  {
   "cell_type": "code",
   "execution_count": 27,
   "metadata": {},
   "outputs": [
    {
     "name": "stdout",
     "output_type": "stream",
     "text": [
      "Name: \n",
      "Type: MultiGraph\n",
      "Number of nodes: 18470\n",
      "Number of edges: 60785\n",
      "Average degree:   6.5820\n"
     ]
    }
   ],
   "source": [
    "g = nx.read_graphml('retweet.graphml')\n",
    "if g.is_directed():\n",
    "    g = g.to_undirected()\n",
    "nodes = g.nodes(data=True)\n",
    "edges = g.edges()\n",
    "info = nx.info(g)\n",
    "print(info)\n",
    "nodes = {k: v for k, v in nodes}\n",
    "edges = tuple((k, v) for k, v in edges)"
   ]
  },
  {
   "cell_type": "code",
   "execution_count": 28,
   "metadata": {},
   "outputs": [
    {
     "name": "stdout",
     "output_type": "stream",
     "text": [
      "Edge Sample:\n",
      "[('n5461', 'n12407'),\n",
      " ('n12356', 'n16645'),\n",
      " ('n3558', 'n10177'),\n",
      " ('n3740', 'n14671'),\n",
      " ('n12033', 'n14025'),\n",
      " ('n6555', 'n15394'),\n",
      " ('n4167', 'n15341'),\n",
      " ('n5525', 'n7499'),\n",
      " ('n3339', 'n12711'),\n",
      " ('n764', 'n14553'),\n",
      " ('n1126', 'n17445'),\n",
      " ('n5010', 'n10255'),\n",
      " ('n14358', 'n15141'),\n",
      " ('n7406', 'n16397'),\n",
      " ('n8190', 'n16282'),\n",
      " ('n5081', 'n11150'),\n",
      " ('n13014', 'n13456'),\n",
      " ('n1209', 'n13417'),\n",
      " ('n2031', 'n18451'),\n",
      " ('n11993', 'n16260'),\n",
      " ('n10277', 'n13580'),\n",
      " ('n4367', 'n5008'),\n",
      " ('n1110', 'n6438'),\n",
      " ('n764', 'n4864'),\n",
      " ('n9463', 'n16348')]\n",
      "Nodes from Edges Sample:\n",
      "{'-': {},\n",
      " 'left': {'n10277': (...,),\n",
      "          'n1110': (...),\n",
      "          'n11150': (...),\n",
      "          'n11993': (...),\n",
      "          'n12033': (...),\n",
      "          'n12356': (...),\n",
      "          'n13580': (...),\n",
      "          'n14025': (...),\n",
      "          'n15341': (...),\n",
      "          'n16260': (...),\n",
      "          'n16282': (...),\n",
      "          'n16645': (...,),\n",
      "          'n18451': (...),\n",
      "          'n2031': (...),\n",
      "          'n4167': (...),\n",
      "          'n4367': (...,),\n",
      "          'n5008': (...),\n",
      "          'n5081': (...),\n",
      "          'n5525': (...),\n",
      "          'n6438': (...,),\n",
      "          'n7499': (...),\n",
      "          'n8190': (...)},\n",
      " 'right': {'n10177': (...),\n",
      "           'n10255': (...),\n",
      "           'n1126': (...),\n",
      "           'n1209': (...),\n",
      "           'n12407': (...),\n",
      "           'n12711': (...),\n",
      "           'n13014': (...),\n",
      "           'n13417': (...),\n",
      "           'n13456': (...),\n",
      "           'n14358': (...),\n",
      "           'n14553': (...),\n",
      "           'n14671': (...),\n",
      "           'n15141': (...),\n",
      "           'n15394': (...),\n",
      "           'n16348': (...),\n",
      "           'n16397': (...),\n",
      "           'n17445': (...),\n",
      "           'n3339': (...),\n",
      "           'n3558': (...),\n",
      "           'n3740': (...),\n",
      "           'n4864': (...),\n",
      "           'n5010': (...),\n",
      "           'n5461': (...),\n",
      "           'n6555': (...),\n",
      "           'n7406': (...),\n",
      "           'n764': (...),\n",
      "           'n9463': (...)}}\n"
     ]
    }
   ],
   "source": [
    "esample = random.sample(edges, 25)\n",
    "print(\"Edge Sample:\")\n",
    "pprint(esample)\n",
    "\n",
    "nsample = {'left': {}, 'right': {}, '-': {}}\n",
    "for u, v in esample:\n",
    "    uclust = g.nodes[u]['cluster']\n",
    "    vclust = g.nodes[v]['cluster']\n",
    "    if u not in nsample[uclust]:\n",
    "        nsample[uclust][u] = tuple(g.neighbors(u))\n",
    "    if v not in nsample[vclust]:\n",
    "        nsample[vclust][v] = tuple(g.neighbors(v))\n",
    "\n",
    "print(\"Nodes from Edges Sample:\")\n",
    "pprint(nsample, depth=2)"
   ]
  },
  {
   "cell_type": "code",
   "execution_count": 37,
   "metadata": {},
   "outputs": [
    {
     "name": "stdout",
     "output_type": "stream",
     "text": [
      "n3189 10\n"
     ]
    }
   ],
   "source": [
    "def ratio_calc(graph, node, sweight=1, oweight=0, nweight=0.5, \n",
    "               field='cluster', neutral='-', right='right', left='left', \n",
    "               no_alignment_value=None):\n",
    "    \"\"\"\n",
    "    Perform a ratio calculation on given node in graph.\n",
    "    \"\"\"\n",
    "    nbors = tuple(graph.neighbors(node))\n",
    "    nclust = graph.nodes[node][field]\n",
    "    \n",
    "    if nclust == neutral:\n",
    "        return no_alignment_value\n",
    "    \n",
    "    counts = { k: float(len(list(v))) for k,v in itertools.groupby(nbors, key=lambda y: graph.nodes[y][field]) }\n",
    "    nother = right if nclust == left else left\n",
    "    ratio = ((sweight * counts.get(nclust, 0)) + (oweight * counts.get(nother, 0)) + (nweight * counts.get(neutral, 0))) \\\n",
    "                / len(nbors)\n",
    "    return ratio\n",
    "\n",
    "ratios = { n: ratio_calc(g, n) for n in g.nodes() }\n",
    "ratios = { k: v for k, v in ratios.items() if v }\n",
    "#pprint(ratios)\n",
    "print(\"n3189\", len(list(g.neighbors(\"n3189\"))))"
   ]
  },
  {
   "cell_type": "code",
   "execution_count": 36,
   "metadata": {},
   "outputs": [
    {
     "data": {
      "image/png": "[encoded data removed]",
      "text/plain": [
       "<Figure size 864x864 with 2 Axes>"
      ]
     },
     "metadata": {},
     "output_type": "display_data"
    }
   ],
   "source": [
    "d = { k: len(tuple(v)) for k, v in itertools.groupby(sorted(ratios.values())) }\n",
    "plot, (ap, bp) = pl.subplots(2)\n",
    "plot.suptitle('Retweet Ratio Distribution')\n",
    "ap.scatter(d.keys(), d.values())\n",
    "bp.hist(ratios.values(), bins=9)\n",
    "plot.show()"
   ]
  },
  {
   "cell_type": "code",
   "execution_count": null,
   "metadata": {},
   "outputs": [],
   "source": []
  }
 ],
 "metadata": {
  "kernelspec": {
   "display_name": "Python 3",
   "language": "python",
   "name": "python3"
  },
  "language_info": {
   "codemirror_mode": {
    "name": "ipython",
    "version": 3
   },
   "file_extension": ".py",
   "mimetype": "text/x-python",
   "name": "python",
   "nbconvert_exporter": "python",
   "pygments_lexer": "ipython3",
   "version": "3.6.9"
  }
 },
 "nbformat": 4,
 "nbformat_minor": 2
}
